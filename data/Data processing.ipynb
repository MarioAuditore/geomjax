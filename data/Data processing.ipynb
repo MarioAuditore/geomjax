{
 "cells": [
  {
   "cell_type": "code",
   "execution_count": 11,
   "id": "6b3bda72-c1bb-4b44-8284-1a40349ab040",
   "metadata": {
    "tags": []
   },
   "outputs": [],
   "source": [
    "import numpy as np"
   ]
  },
  {
   "cell_type": "code",
   "execution_count": 54,
   "id": "1f18699a-decb-4173-8f1f-dab64db1ca82",
   "metadata": {
    "tags": []
   },
   "outputs": [],
   "source": [
    "path = '/home/elfat/python_env/Geometric Deep Learning/FMRI data/'\n",
    "\n",
    "labels = np.load(path + 'labels.npy')\n",
    "corrs = np.load(path + 'corrs.npy')"
   ]
  },
  {
   "cell_type": "markdown",
   "id": "30af33c4-a056-4417-bac2-24101051be8f",
   "metadata": {},
   "source": [
    "# Описание\n",
    "Объекты -- матрицы корреляций активностей 12 регионов головного мозга, входящих в определённую подсеть.\n",
    "X[i] определяет соответствующий набор корреляций, всего систем 4 (visual cortex, smn, attention network, dmn).\n",
    "\n",
    "И есть три разметки.\n",
    "Первая определяет номер пациента (3 класса).\n",
    "Вторая определяет, проводился замер в первой или второй половине эксперимента (два класса).\n",
    "Третья указывает на resting-state (два сильно несбалансированных класса)."
   ]
  },
  {
   "cell_type": "code",
   "execution_count": 9,
   "id": "8b28535b-3172-4d2b-badd-7bf2f5aace6e",
   "metadata": {
    "tags": []
   },
   "outputs": [],
   "source": [
    "visual_cortex, smn, attention_network, dmn = corrs\n",
    "patient_id, experiment_part_id, resting_state = labels"
   ]
  },
  {
   "cell_type": "code",
   "execution_count": 10,
   "id": "544dcee3-7833-4974-b783-1e5df87e8b4c",
   "metadata": {
    "tags": []
   },
   "outputs": [
    {
     "data": {
      "text/plain": [
       "((array([1, 2, 5]), array([478, 464, 478])),\n",
       " (array([0, 1]), array([720, 700])),\n",
       " (array([0, 1]), array([1332,   88])))"
      ]
     },
     "execution_count": 10,
     "metadata": {},
     "output_type": "execute_result"
    }
   ],
   "source": [
    "np.unique(patient_id, return_counts=True), np.unique(experiment_part_id, return_counts=True), np.unique(resting_state, return_counts=True)"
   ]
  },
  {
   "cell_type": "markdown",
   "id": "f0f9b9bd-d59c-4121-91e3-2615e76061a5",
   "metadata": {},
   "source": [
    "# Data preprocessing"
   ]
  },
  {
   "cell_type": "code",
   "execution_count": 34,
   "id": "06b3e995-3c8c-4494-87c2-0e2a3cafb534",
   "metadata": {
    "tags": []
   },
   "outputs": [],
   "source": [
    "from sklearn.model_selection import train_test_split\n",
    "\n",
    "X, y = visual_cortex, resting_state\n",
    "\n",
    "X_train, X_test, y_train, y_test = train_test_split(X, y, test_size=0.33, stratify=resting_state)"
   ]
  },
  {
   "cell_type": "code",
   "execution_count": 35,
   "id": "dc0edce4-9bc5-40e5-97df-375e1a98c481",
   "metadata": {
    "tags": []
   },
   "outputs": [
    {
     "data": {
      "text/plain": [
       "(array([0, 1]), array([440,  29]))"
      ]
     },
     "execution_count": 35,
     "metadata": {},
     "output_type": "execute_result"
    }
   ],
   "source": [
    "np.unique(y_test, return_counts=True)"
   ]
  },
  {
   "cell_type": "code",
   "execution_count": 32,
   "id": "85925ab3-330c-4b7e-85ab-0b75f07e5baa",
   "metadata": {
    "tags": []
   },
   "outputs": [],
   "source": [
    "# !pip install --upgrade imbalanced-learn"
   ]
  },
  {
   "cell_type": "code",
   "execution_count": 49,
   "id": "066e1f7b-a23d-460b-b86c-114260871c85",
   "metadata": {
    "tags": []
   },
   "outputs": [],
   "source": [
    "from imblearn.over_sampling import RandomOverSampler\n",
    "\n",
    "\n",
    "def resample_data(X, y):\n",
    "    X_idx = np.expand_dims(np.arange(0, X.shape[0]), axis=1)\n",
    "    ros = RandomOverSampler(random_state=0)\n",
    "    X_resampled, y_resampled = ros.fit_resample(X_idx, y)\n",
    "    X_resampled = X[X_resampled.squeeze()]\n",
    "    return X_resampled, y_resampled"
   ]
  },
  {
   "cell_type": "code",
   "execution_count": 53,
   "id": "2fdec676-d290-435d-9c67-2e26c9b81a6a",
   "metadata": {
    "tags": []
   },
   "outputs": [
    {
     "name": "stdout",
     "output_type": "stream",
     "text": [
      "X_train: (951, 12, 12) X_resampled: (1784, 12, 12)\n",
      "y_train: (array([0, 1]), array([892,  59])) y_resampled: (array([0, 1]), array([892, 892]))\n"
     ]
    }
   ],
   "source": [
    "X_resampled, y_resampled = resample_data(X_train, y_train)\n",
    "\n",
    "print(f\"X_train: {X_train.shape} X_resampled: {X_resampled.shape}\")\n",
    "print(f\"y_train: {np.unique(y_train, return_counts=True)} y_resampled: {np.unique(y_resampled, return_counts=True)}\")"
   ]
  },
  {
   "cell_type": "code",
   "execution_count": null,
   "id": "0660d135-376f-4113-8165-ebb1b7223ad7",
   "metadata": {},
   "outputs": [],
   "source": []
  },
  {
   "cell_type": "code",
   "execution_count": null,
   "id": "f4a12c73-837d-41b4-bf0d-3b28a88df373",
   "metadata": {},
   "outputs": [],
   "source": []
  }
 ],
 "metadata": {
  "kernelspec": {
   "display_name": "Python 3 (ipykernel)",
   "language": "python",
   "name": "python3"
  },
  "language_info": {
   "codemirror_mode": {
    "name": "ipython",
    "version": 3
   },
   "file_extension": ".py",
   "mimetype": "text/x-python",
   "name": "python",
   "nbconvert_exporter": "python",
   "pygments_lexer": "ipython3",
   "version": "3.8.10"
  }
 },
 "nbformat": 4,
 "nbformat_minor": 5
}
