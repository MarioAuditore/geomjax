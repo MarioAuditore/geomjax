{
 "cells": [
  {
   "cell_type": "markdown",
   "id": "8965ee55-1748-4a78-b770-eff45b3556a9",
   "metadata": {},
   "source": [
    "# SPDAvgPooling-2\n",
    "This notebook contains training run for SPDAvgPooling model. \n",
    "\n",
    "If you are using Colab or Kaggle, clone the repository and add path (if needed)."
   ]
  },
  {
   "cell_type": "code",
   "execution_count": null,
   "id": "c8bf644b-88f4-450c-8e51-b088aa5c6361",
   "metadata": {},
   "outputs": [],
   "source": [
    "# !git clone https://github.com/MarioAuditore/geomjax.git"
   ]
  },
  {
   "cell_type": "code",
   "execution_count": 2,
   "id": "77d6f0ec-66bc-4dd1-aa73-e3b0882cd270",
   "metadata": {},
   "outputs": [],
   "source": [
    "# Add path if needed\n",
    "# import sys\n",
    "# sys.path.append(\"./\")"
   ]
  },
  {
   "cell_type": "code",
   "execution_count": 1,
   "id": "e5693a82",
   "metadata": {
    "executionInfo": {
     "elapsed": 1958,
     "status": "ok",
     "timestamp": 1682710968067,
     "user": {
      "displayName": "Эльфат Сабитов",
      "userId": "15165866794648613016"
     },
     "user_tz": -180
    },
    "id": "b3a365cf-5ea1-4989-96a3-5baa12655c18",
    "papermill": {
     "duration": 3.110003,
     "end_time": "2023-05-22T21:38:22.681128",
     "exception": false,
     "start_time": "2023-05-22T21:38:19.571125",
     "status": "completed"
    },
    "tags": []
   },
   "outputs": [],
   "source": [
    "import os\n",
    "from typing import Any, Callable, Sequence\n",
    "# os.environ[\"XLA_FLAGS\"] = '--xla_force_host_platform_device_count=8' # Use 4 CPU devices\n",
    "\n",
    "from tqdm import tqdm\n",
    "import matplotlib.pyplot as plt\n",
    "from sklearn.datasets import make_spd_matrix\n",
    "import numpy as np\n",
    "import scipy\n",
    "\n",
    "import jax\n",
    "from jax import jit, random, grad, jacobian\n",
    "from jax import numpy as jnp\n",
    "from jax.sharding import PositionalSharding\n",
    "\n",
    "key = random.PRNGKey(1234)\n",
    "jax.devices()\n",
    "\n",
    "from flax.core import freeze, unfreeze\n",
    "from flax import linen as nn\n",
    "import optax"
   ]
  },
  {
   "cell_type": "code",
   "execution_count": 2,
   "id": "ea9a0483",
   "metadata": {
    "executionInfo": {
     "elapsed": 9169,
     "status": "ok",
     "timestamp": 1682710978058,
     "user": {
      "displayName": "Эльфат Сабитов",
      "userId": "15165866794648613016"
     },
     "user_tz": -180
    },
    "id": "8ee5e87e-c8cc-49dd-8684-972e6b4f8cb4",
    "papermill": {
     "duration": 3.484511,
     "end_time": "2023-05-22T21:38:26.180150",
     "exception": false,
     "start_time": "2023-05-22T21:38:22.695639",
     "status": "completed"
    },
    "tags": []
   },
   "outputs": [],
   "source": [
    "# importing the cloned repository\n",
    "import sys\n",
    "sys.path.insert(0, '../')\n",
    "\n",
    "from geomjax.manifolds import euclidean, spd, stiefel\n",
    "from geomjax.models import spdnet"
   ]
  },
  {
   "cell_type": "markdown",
   "id": "2d424107",
   "metadata": {
    "id": "57c0a2be-bf2d-4ad6-9373-aa3fdc4e92ed",
    "papermill": {
     "duration": 0.014851,
     "end_time": "2023-05-22T21:38:26.250617",
     "exception": false,
     "start_time": "2023-05-22T21:38:26.235766",
     "status": "completed"
    },
    "tags": []
   },
   "source": [
    "# Loading the data"
   ]
  },
  {
   "cell_type": "code",
   "execution_count": 3,
   "id": "b912742a",
   "metadata": {
    "papermill": {
     "duration": 0.149617,
     "end_time": "2023-05-22T21:38:26.590138",
     "exception": false,
     "start_time": "2023-05-22T21:38:26.440521",
     "status": "completed"
    },
    "tags": []
   },
   "outputs": [],
   "source": [
    "from sklearn.model_selection import train_test_split\n",
    "from sklearn.metrics import f1_score, accuracy_score, roc_auc_score\n",
    "from sklearn.preprocessing import OneHotEncoder\n",
    "\n",
    "path = '../geomjax/data/'\n",
    "\n",
    "labels = np.load(path + 'labels.npy')\n",
    "corrs = np.load(path + 'corrs.npy')\n",
    "\n",
    "visual_cortex, smn, attention_network, dmn = corrs\n",
    "patient_id, experiment_part_id, resting_state = labels\n",
    "\n",
    "X_full, y_full = corrs.swapaxes(1,0), experiment_part_id\n",
    "\n",
    "X_train, X_test, y_train, y_test = train_test_split(X_full, y_full, test_size=0.33, random_state=1234, stratify=y_full)"
   ]
  },
  {
   "cell_type": "code",
   "execution_count": 4,
   "id": "5e73b122-592f-419f-a9bd-45cb2d15f1b0",
   "metadata": {},
   "outputs": [],
   "source": [
    "def prepare_data(X_full, y_full, test_size=0.33, n_labels = 2, random_state=1234):\n",
    "    X_train, X_test, y_train, y_test = train_test_split(X_full, y_full, \n",
    "                                                        test_size=test_size, \n",
    "                                                        random_state=random_state, \n",
    "                                                        stratify=y_full)\n",
    "    X_train, X_test = jnp.array(X_train), jnp.array(X_test)\n",
    "    y_train = jnp.array(OneHotEncoder().fit_transform(y_train.reshape(-1, 1)).toarray())\n",
    "    y_test = jnp.array(y_test)\n",
    "    return X_train, X_test, y_train, y_test"
   ]
  },
  {
   "cell_type": "markdown",
   "id": "a03f1a73",
   "metadata": {
    "papermill": {
     "duration": 0.014777,
     "end_time": "2023-05-22T21:38:26.966434",
     "exception": false,
     "start_time": "2023-05-22T21:38:26.951657",
     "status": "completed"
    },
    "tags": []
   },
   "source": [
    "## Checking labels"
   ]
  },
  {
   "cell_type": "code",
   "execution_count": 5,
   "id": "c8930a73",
   "metadata": {
    "papermill": {
     "duration": 0.041094,
     "end_time": "2023-05-22T21:38:27.062298",
     "exception": false,
     "start_time": "2023-05-22T21:38:27.021204",
     "status": "completed"
    },
    "tags": []
   },
   "outputs": [
    {
     "name": "stdout",
     "output_type": "stream",
     "text": [
      "y_train: (array([0, 1]), array([482, 469])) y_test: (array([0, 1]), array([238, 231]))\n"
     ]
    }
   ],
   "source": [
    "print(f\"y_train: {np.unique(y_train, return_counts=True)} y_test: {np.unique(y_test, return_counts=True)}\")\n",
    "\n",
    "X_train, X_test = jnp.array(X_train), jnp.array(X_test)\n",
    "\n",
    "n_labels = 2\n",
    "y_train = jnp.array(OneHotEncoder().fit_transform(y_train.reshape(-1, 1)).toarray())\n",
    "y_test = jnp.array(y_test)"
   ]
  },
  {
   "cell_type": "markdown",
   "id": "2ea49ffa",
   "metadata": {
    "id": "e5f0b9c3-d5d1-4774-905b-5442273621e1",
    "papermill": {
     "duration": 0.01477,
     "end_time": "2023-05-22T21:38:27.094584",
     "exception": false,
     "start_time": "2023-05-22T21:38:27.079814",
     "status": "completed"
    },
    "tags": []
   },
   "source": [
    "# SPDNet with manifold mean"
   ]
  },
  {
   "cell_type": "code",
   "execution_count": 6,
   "id": "8b2da3a3",
   "metadata": {
    "executionInfo": {
     "elapsed": 13,
     "status": "ok",
     "timestamp": 1682710978946,
     "user": {
      "displayName": "Эльфат Сабитов",
      "userId": "15165866794648613016"
     },
     "user_tz": -180
    },
    "id": "18201362-e630-46b8-a57a-d7b7a6a4ef00",
    "papermill": {
     "duration": 0.033513,
     "end_time": "2023-05-22T21:38:27.143050",
     "exception": false,
     "start_time": "2023-05-22T21:38:27.109537",
     "status": "completed"
    },
    "tags": []
   },
   "outputs": [],
   "source": [
    "from geomjax.models import geometric_mlp\n",
    "\n",
    "\n",
    "class SPDNet(nn.Module):\n",
    "\n",
    "    spd_optim: Any\n",
    "    n_labels: int\n",
    "    train: bool\n",
    "\n",
    "    # благодаря этому декоратору я пишу в pytorch style\n",
    "    @nn.compact\n",
    "    def __call__(self, inputs):\n",
    "        x = inputs\n",
    "        \n",
    "        x = spdnet.MultiBiMapLayer(out_dim=10)(x)\n",
    "        x = spdnet.ReEigLayer()(x)\n",
    "\n",
    "        x = spdnet.MultiBiMapLayer(out_dim=8)(x)\n",
    "        x = spdnet.ReEigLayer()(x)\n",
    "\n",
    "        x = spdnet.SPDAvgPooling(optimiser=self.spd_optim, plot_loss_flag=False)(x)\n",
    "\n",
    "        x = spdnet.BiMapLayer(out_dim=7)(x)\n",
    "        x = spdnet.ReEigLayer()(x)\n",
    "\n",
    "        x = spdnet.LogEigLayer()(x)\n",
    "        x = spdnet.Triu()(x)\n",
    "        \n",
    "        x = nn.Dense(128)(x)\n",
    "        x = nn.BatchNorm(use_running_average=not self.train)(x)\n",
    "        x = nn.relu(x)\n",
    "\n",
    "        x = nn.Dense(64)(x)\n",
    "        x = nn.BatchNorm(use_running_average=not self.train)(x)\n",
    "        x = nn.relu(x)\n",
    "\n",
    "        x = nn.Dense(64)(x)\n",
    "        x = nn.BatchNorm(use_running_average=not self.train)(x)\n",
    "        x = nn.relu(x)\n",
    "        \n",
    "        x = nn.Dense(32)(x)\n",
    "        x = nn.BatchNorm(use_running_average=not self.train)(x)\n",
    "        x = nn.relu(x)\n",
    "\n",
    "        x = nn.Dense(self.n_labels)(x)\n",
    "        x = nn.relu(x)\n",
    "        \n",
    "        return x"
   ]
  },
  {
   "cell_type": "markdown",
   "id": "0e006d25",
   "metadata": {
    "id": "d4d31e2f-68b4-40b1-8737-24bc7acfbf8a",
    "papermill": {
     "duration": 0.014744,
     "end_time": "2023-05-22T21:38:27.173094",
     "exception": false,
     "start_time": "2023-05-22T21:38:27.158350",
     "status": "completed"
    },
    "tags": []
   },
   "source": [
    "## Initialize optimizer\n",
    "Optimizer on SPD manifold is used inside `SPDAvgPooling` layer"
   ]
  },
  {
   "cell_type": "code",
   "execution_count": 7,
   "id": "20c21bf8",
   "metadata": {
    "executionInfo": {
     "elapsed": 22,
     "status": "ok",
     "timestamp": 1682710979721,
     "user": {
      "displayName": "Эльфат Сабитов",
      "userId": "15165866794648613016"
     },
     "user_tz": -180
    },
    "id": "4c82810f-2894-490d-bd79-6807f02229bb",
    "papermill": {
     "duration": 0.024781,
     "end_time": "2023-05-22T21:38:27.212951",
     "exception": false,
     "start_time": "2023-05-22T21:38:27.188170",
     "status": "completed"
    },
    "tags": []
   },
   "outputs": [],
   "source": [
    "from geomjax.optim import SGD\n",
    "\n",
    "\n",
    "spd_manifold = spd.SPD()\n",
    "\n",
    "spd_optim = SGD(\n",
    "    lr=1e-2, \n",
    "    manifold=spd_manifold\n",
    ")"
   ]
  },
  {
   "cell_type": "code",
   "execution_count": 8,
   "id": "d314497a-b43e-4bb4-ba0b-d84b91680dda",
   "metadata": {},
   "outputs": [
    {
     "data": {
      "text/plain": [
       "Array([[0.44596776, 0.        ],\n",
       "       [0.54972744, 0.06636319]], dtype=float32)"
      ]
     },
     "execution_count": 8,
     "metadata": {},
     "output_type": "execute_result"
    }
   ],
   "source": [
    "# check\n",
    "model = SPDNet(spd_optim=spd_optim, n_labels=n_labels, train = True)\n",
    "params = model.init(key, X_train[:2])\n",
    "pred, batch_stats = model.apply(params, X_train[:2], mutable=['batch_stats']) \n",
    "pred"
   ]
  },
  {
   "cell_type": "markdown",
   "id": "b11ea98a",
   "metadata": {
    "id": "cfd5cf79-524b-4cbc-8799-4ff27876d280",
    "papermill": {
     "duration": 0.015325,
     "end_time": "2023-05-22T21:38:35.871111",
     "exception": false,
     "start_time": "2023-05-22T21:38:35.855786",
     "status": "completed"
    },
    "tags": []
   },
   "source": [
    "## Criterion"
   ]
  },
  {
   "cell_type": "code",
   "execution_count": 9,
   "id": "a62f44fb",
   "metadata": {
    "executionInfo": {
     "elapsed": 54,
     "status": "ok",
     "timestamp": 1682711012210,
     "user": {
      "displayName": "Эльфат Сабитов",
      "userId": "15165866794648613016"
     },
     "user_tz": -180
    },
    "id": "61a876c5-18ac-4b0c-88d4-41b29f5f169f",
    "papermill": {
     "duration": 0.026282,
     "end_time": "2023-05-22T21:38:35.913333",
     "exception": false,
     "start_time": "2023-05-22T21:38:35.887051",
     "status": "completed"
    },
    "tags": []
   },
   "outputs": [],
   "source": [
    "# @jit\n",
    "# def binary_cross_entropy(params, x_batched, y_batched):\n",
    "#     pred = model.apply(params, x_batched)    \n",
    "#     return jnp.mean(optax.softmax_cross_entropy(pred, y_batched), axis=0)\n",
    "\n",
    "# loss_grad_fn = jax.value_and_grad(binary_cross_entropy)\n",
    "\n",
    "def binary_cross_entropy(params, x_batched, y_batched):\n",
    "    pred, mutated_vars = model.apply(params, x_batched, mutable=['batch_stats'])\n",
    "    return jnp.mean(optax.softmax_cross_entropy(pred, y_batched), axis=0),  mutated_vars['batch_stats']\n",
    "\n",
    "loss_grad_fn = jax.value_and_grad(binary_cross_entropy, has_aux=True)"
   ]
  },
  {
   "cell_type": "code",
   "execution_count": 10,
   "id": "09e079fc",
   "metadata": {
    "executionInfo": {
     "elapsed": 24667,
     "status": "ok",
     "timestamp": 1682711039834,
     "user": {
      "displayName": "Эльфат Сабитов",
      "userId": "15165866794648613016"
     },
     "user_tz": -180
    },
    "id": "6cf79246-a638-4b7d-a335-27c624be0ecf",
    "outputId": "a933be33-1771-4483-c59e-9aeec7d62631",
    "papermill": {
     "duration": 0.024646,
     "end_time": "2023-05-22T21:38:35.953378",
     "exception": false,
     "start_time": "2023-05-22T21:38:35.928732",
     "status": "completed"
    },
    "scrolled": true,
    "tags": []
   },
   "outputs": [
    {
     "data": {
      "text/plain": [
       "(Array(0.6871145, dtype=float32),\n",
       " dict_keys(['BatchNorm_0', 'BatchNorm_1', 'BatchNorm_2', 'BatchNorm_3', 'BiMapLayer_0', 'Dense_0', 'Dense_1', 'Dense_2', 'Dense_3', 'Dense_4', 'MultiBiMapLayer_0', 'MultiBiMapLayer_1', 'SPDAvgPooling_0']))"
      ]
     },
     "execution_count": 10,
     "metadata": {},
     "output_type": "execute_result"
    }
   ],
   "source": [
    "# check\n",
    "(loss_val, batch_stats), grads = loss_grad_fn(params, X_train[:125], y_train[:125])\n",
    "loss_val, grads['params'].keys()"
   ]
  },
  {
   "cell_type": "markdown",
   "id": "3b33732c",
   "metadata": {
    "id": "2be9ac32-9782-4881-9e2b-eca7fc8f0829",
    "papermill": {
     "duration": 0.015498,
     "end_time": "2023-05-22T21:38:35.984159",
     "exception": false,
     "start_time": "2023-05-22T21:38:35.968661",
     "status": "completed"
    },
    "tags": []
   },
   "source": [
    "# Split params into euclidean and non-euclidean"
   ]
  },
  {
   "cell_type": "code",
   "execution_count": 11,
   "id": "e9a29268",
   "metadata": {
    "executionInfo": {
     "elapsed": 39,
     "status": "ok",
     "timestamp": 1682711039834,
     "user": {
      "displayName": "Эльфат Сабитов",
      "userId": "15165866794648613016"
     },
     "user_tz": -180
    },
    "id": "274b82ef-b8fa-4645-9669-25945642be22",
    "outputId": "6fe5f42b-3f19-4b0e-9a11-d3b22ee1ebfd",
    "papermill": {
     "duration": 0.03032,
     "end_time": "2023-05-22T21:38:36.029885",
     "exception": false,
     "start_time": "2023-05-22T21:38:35.999565",
     "status": "completed"
    },
    "tags": []
   },
   "outputs": [
    {
     "data": {
      "text/plain": [
       "(frozen_dict_keys(['SPDAvgPooling_0']),\n",
       " frozen_dict_keys(['MultiBiMapLayer_0', 'MultiBiMapLayer_1', 'BiMapLayer_0']),\n",
       " frozen_dict_keys(['Dense_0', 'BatchNorm_0', 'Dense_1', 'BatchNorm_1', 'Dense_2', 'BatchNorm_2', 'Dense_3', 'BatchNorm_3', 'Dense_4']))"
      ]
     },
     "execution_count": 11,
     "metadata": {},
     "output_type": "execute_result"
    }
   ],
   "source": [
    "def split_groups(params):\n",
    "    stiefel_params = {}\n",
    "    sphere_params = {}\n",
    "    euclidean_params = {}\n",
    "\n",
    "    for key in list(params['params'].keys()):\n",
    "        if 'MapLayer' in key:\n",
    "            stiefel_params[key] = params['params'][key]\n",
    "        elif 'Sphere' in key or 'SPDAvgPooling' in key:\n",
    "            sphere_params[key] = params['params'][key]\n",
    "        else:\n",
    "            euclidean_params[key] = params['params'][key]\n",
    "\n",
    "    return freeze(sphere_params), freeze(stiefel_params), freeze(euclidean_params)\n",
    "\n",
    "sphere_params, stiefel_params, euclidean_params = split_groups(params)\n",
    "sphere_params.keys(), stiefel_params.keys(), euclidean_params.keys()"
   ]
  },
  {
   "cell_type": "code",
   "execution_count": 12,
   "id": "5344eaa8",
   "metadata": {
    "executionInfo": {
     "elapsed": 34,
     "status": "ok",
     "timestamp": 1682711039835,
     "user": {
      "displayName": "Эльфат Сабитов",
      "userId": "15165866794648613016"
     },
     "user_tz": -180
    },
    "id": "cf1c0a7d-20a0-4c2a-8e5a-c1dad94d12de",
    "papermill": {
     "duration": 0.025711,
     "end_time": "2023-05-22T21:38:36.071168",
     "exception": false,
     "start_time": "2023-05-22T21:38:36.045457",
     "status": "completed"
    },
    "tags": []
   },
   "outputs": [],
   "source": [
    "def merge_groups(params, *args):\n",
    "    params = unfreeze(params)\n",
    "    for group_param in args:\n",
    "        for key in list(group_param.keys()):\n",
    "            params['params'][key] = group_param[key]\n",
    "    return params"
   ]
  },
  {
   "cell_type": "markdown",
   "id": "814c7d63",
   "metadata": {
    "id": "0b828c28-f003-4905-bc7b-7a136016b2fc",
    "papermill": {
     "duration": 0.015049,
     "end_time": "2023-05-22T21:38:36.101726",
     "exception": false,
     "start_time": "2023-05-22T21:38:36.086677",
     "status": "completed"
    },
    "tags": []
   },
   "source": [
    "# Param optimizer\n",
    "\n",
    "- For euclidean params Optax will be used\n",
    "- For non-euclidean params our implementation of Riemennian SGD will be used"
   ]
  },
  {
   "cell_type": "code",
   "execution_count": 13,
   "id": "8bc63eda",
   "metadata": {
    "executionInfo": {
     "elapsed": 18,
     "status": "ok",
     "timestamp": 1682711040359,
     "user": {
      "displayName": "Эльфат Сабитов",
      "userId": "15165866794648613016"
     },
     "user_tz": -180
    },
    "id": "09e45252-57ad-4598-b501-0799f654fff6",
    "papermill": {
     "duration": 0.029525,
     "end_time": "2023-05-22T21:38:36.295341",
     "exception": false,
     "start_time": "2023-05-22T21:38:36.265816",
     "status": "completed"
    },
    "tags": []
   },
   "outputs": [],
   "source": [
    "from geomjax.optim import SGD \n",
    "\n",
    "\n",
    "stiefel_manifold = stiefel.Stiefel()\n",
    "\n",
    "stiefel_optim = SGD(\n",
    "    manifold=stiefel_manifold\n",
    ")"
   ]
  },
  {
   "cell_type": "code",
   "execution_count": 14,
   "id": "a18650d1-7c2d-433f-a0eb-1dec4548d9d4",
   "metadata": {},
   "outputs": [],
   "source": [
    "from geomjax.manifolds.hypersphere import Hypersphere\n",
    "\n",
    "\n",
    "sphere_manifold = Hypersphere()\n",
    "\n",
    "sphere_optim = SGD(\n",
    "    lr=3e-4,\n",
    "    manifold=sphere_manifold\n",
    ")"
   ]
  },
  {
   "cell_type": "code",
   "execution_count": 15,
   "id": "ddfe02ee",
   "metadata": {
    "executionInfo": {
     "elapsed": 18,
     "status": "ok",
     "timestamp": 1682711040360,
     "user": {
      "displayName": "Эльфат Сабитов",
      "userId": "15165866794648613016"
     },
     "user_tz": -180
    },
    "id": "8f9113de-802d-4bc1-8a34-cca812a5b509",
    "papermill": {
     "duration": 0.025577,
     "end_time": "2023-05-22T21:38:36.367959",
     "exception": false,
     "start_time": "2023-05-22T21:38:36.342382",
     "status": "completed"
    },
    "tags": []
   },
   "outputs": [],
   "source": [
    "def check_nans(params_dict):\n",
    "    for key in list(params_dict.keys()):\n",
    "        for val in params_dict[key].values():\n",
    "            if jnp.isnan(val).any():\n",
    "                raise Exception(f\"Found none in param {key}\\nParams dictionary:\\n{params_dict}\")"
   ]
  },
  {
   "cell_type": "markdown",
   "id": "06aece5d",
   "metadata": {
    "id": "jOZpZoieQ5aa",
    "papermill": {
     "duration": 0.015844,
     "end_time": "2023-05-22T21:38:36.399392",
     "exception": false,
     "start_time": "2023-05-22T21:38:36.383548",
     "status": "completed"
    },
    "tags": []
   },
   "source": [
    "### Training setup"
   ]
  },
  {
   "cell_type": "code",
   "execution_count": 17,
   "id": "900e5b49",
   "metadata": {
    "executionInfo": {
     "elapsed": 18,
     "status": "ok",
     "timestamp": 1682711040360,
     "user": {
      "displayName": "Эльфат Сабитов",
      "userId": "15165866794648613016"
     },
     "user_tz": -180
    },
    "id": "Rvy1e-nOQ5KL",
    "papermill": {
     "duration": 0.024869,
     "end_time": "2023-05-22T21:38:36.439821",
     "exception": false,
     "start_time": "2023-05-22T21:38:36.414952",
     "status": "completed"
    },
    "tags": []
   },
   "outputs": [],
   "source": [
    "# Training hyperparams\n",
    "n_epochs = 500\n",
    "batch_size = 64 \n",
    "\n",
    "\n",
    "# Euclidean scheduler\n",
    "# start_epoch = 200 \n",
    "euclidean_scheduler = optax.linear_schedule(1e-3, 1e-7, \n",
    "                                            n_epochs * len(X_train) // batch_size)\n",
    "euclidean_optim = optax.adabelief(learning_rate=euclidean_scheduler)\n",
    "# euclidean_optim = optax.adabelief(learning_rate=3e-4)\n",
    "euclid_grad_clipper = optax.adaptive_grad_clip(1.0)\n",
    "\n",
    "# Stiefel scheduler\n",
    "stiefel_scheduler = optax.linear_schedule(3e-3, 1e-7, \n",
    "                                          n_epochs * len(X_train) // batch_size)\n",
    "stiefel_optim.scheduler = stiefel_scheduler\n",
    "stiefel_grad_clipper = optax.adaptive_grad_clip(1.0)\n",
    "\n",
    "# Spherical scheduler\n",
    "# sphere_scheduler = optax.cosine_onecycle_schedule(n_epochs * len(X_train) // batch_size, 1e-1, div_factor=10, final_div_factor=1000, pct_start=0.4)\n",
    "# sphere_optim.scheduler = sphere_scheduler\n",
    "sphere_grad_clipper = optax.adaptive_grad_clip(1.0)"
   ]
  },
  {
   "cell_type": "markdown",
   "id": "38f0a0d0",
   "metadata": {
    "id": "ac318b44-9dbe-412f-844c-6fb9c12962b0",
    "papermill": {
     "duration": 0.015097,
     "end_time": "2023-05-22T21:38:36.470459",
     "exception": false,
     "start_time": "2023-05-22T21:38:36.455362",
     "status": "completed"
    },
    "tags": []
   },
   "source": [
    "# Train"
   ]
  },
  {
   "cell_type": "code",
   "execution_count": 18,
   "id": "c7d21721-fa1c-4643-a2ce-f894ac26fc15",
   "metadata": {},
   "outputs": [],
   "source": [
    "def batch_sampler(data, labels, batch_size, shuffle=True):\n",
    "    \"\"\"\n",
    "    Generator function that yields batches from the dataset randomly.\n",
    "    \"\"\"\n",
    "    data_size = len(data)\n",
    "    indices = np.arange(data_size)\n",
    "    if shuffle:\n",
    "        np.random.shuffle(indices)\n",
    "    \n",
    "    for start_idx in range(0, data_size, batch_size):\n",
    "        end_idx = min(start_idx + batch_size, data_size)\n",
    "        batch_indices = indices[start_idx:end_idx]\n",
    "        yield data[batch_indices], labels[batch_indices]"
   ]
  },
  {
   "cell_type": "code",
   "execution_count": 19,
   "id": "4c8fb1eb",
   "metadata": {
    "editable": true,
    "executionInfo": {
     "elapsed": 772088,
     "status": "ok",
     "timestamp": 1682711812432,
     "user": {
      "displayName": "Эльфат Сабитов",
      "userId": "15165866794648613016"
     },
     "user_tz": -180
    },
    "id": "d24099fa-6cd3-4d4e-9bbb-747b158cd29a",
    "outputId": "8e137f21-58b3-4ef4-a5ec-6548fc23cdd9",
    "papermill": {
     "duration": 33340.331852,
     "end_time": "2023-05-23T06:54:16.817922",
     "exception": false,
     "start_time": "2023-05-22T21:38:36.486070",
     "status": "completed"
    },
    "scrolled": true,
    "slideshow": {
     "slide_type": ""
    },
    "tags": []
   },
   "outputs": [
    {
     "name": "stderr",
     "output_type": "stream",
     "text": [
      "Failed to detect the name of this notebook, you can set it manually with the WANDB_NOTEBOOK_NAME environment variable to enable code saving.\n",
      "\u001b[34m\u001b[1mwandb\u001b[0m: Currently logged in as: \u001b[33melfat\u001b[0m. Use \u001b[1m`wandb login --relogin`\u001b[0m to force relogin\n"
     ]
    },
    {
     "data": {
      "text/html": [
       "wandb version 0.17.0 is available!  To upgrade, please run:\n",
       " $ pip install wandb --upgrade"
      ],
      "text/plain": [
       "<IPython.core.display.HTML object>"
      ]
     },
     "metadata": {},
     "output_type": "display_data"
    },
    {
     "data": {
      "text/html": [
       "Tracking run with wandb version 0.15.8"
      ],
      "text/plain": [
       "<IPython.core.display.HTML object>"
      ]
     },
     "metadata": {},
     "output_type": "display_data"
    },
    {
     "data": {
      "text/html": [
       "Run data is saved locally in <code>/Users/marioauditore/Desktop/Geometric and Algebraic Methods/Geometric Deep Learning/Geomjax Project/experiments/wandb/run-20240531_131036-iz1fkgi2</code>"
      ],
      "text/plain": [
       "<IPython.core.display.HTML object>"
      ]
     },
     "metadata": {},
     "output_type": "display_data"
    },
    {
     "data": {
      "text/html": [
       "Syncing run <strong><a href='https://wandb.ai/elfat/SPDAvgPooling/runs/iz1fkgi2' target=\"_blank\">vibrant-dragon-123</a></strong> to <a href='https://wandb.ai/elfat/SPDAvgPooling' target=\"_blank\">Weights & Biases</a> (<a href='https://wandb.me/run' target=\"_blank\">docs</a>)<br/>"
      ],
      "text/plain": [
       "<IPython.core.display.HTML object>"
      ]
     },
     "metadata": {},
     "output_type": "display_data"
    },
    {
     "data": {
      "text/html": [
       " View project at <a href='https://wandb.ai/elfat/SPDAvgPooling' target=\"_blank\">https://wandb.ai/elfat/SPDAvgPooling</a>"
      ],
      "text/plain": [
       "<IPython.core.display.HTML object>"
      ]
     },
     "metadata": {},
     "output_type": "display_data"
    },
    {
     "data": {
      "text/html": [
       " View run at <a href='https://wandb.ai/elfat/SPDAvgPooling/runs/iz1fkgi2' target=\"_blank\">https://wandb.ai/elfat/SPDAvgPooling/runs/iz1fkgi2</a>"
      ],
      "text/plain": [
       "<IPython.core.display.HTML object>"
      ]
     },
     "metadata": {},
     "output_type": "display_data"
    },
    {
     "name": "stderr",
     "output_type": "stream",
     "text": [
      "100%|███████████████████████████████████████| 500/500 [1:43:02<00:00, 12.36s/it]\n"
     ]
    },
    {
     "data": {
      "image/png": "[encoded data removed]",
      "text/plain": [
       "<Figure size 640x480 with 1 Axes>"
      ]
     },
     "metadata": {},
     "output_type": "display_data"
    },
    {
     "data": {
      "image/png": "[encoded data removed]",
      "text/plain": [
       "<Figure size 640x480 with 1 Axes>"
      ]
     },
     "metadata": {},
     "output_type": "display_data"
    },
    {
     "data": {
      "text/html": [
       "Finishing last run (ID:iz1fkgi2) before initializing another..."
      ],
      "text/plain": [
       "<IPython.core.display.HTML object>"
      ]
     },
     "metadata": {},
     "output_type": "display_data"
    },
    {
     "data": {
      "text/html": [
       "Waiting for W&B process to finish... <strong style=\"color:green\">(success).</strong>"
      ],
      "text/plain": [
       "<IPython.core.display.HTML object>"
      ]
     },
     "metadata": {},
     "output_type": "display_data"
    },
    {
     "data": {
      "text/html": [
       "<style>\n",
       "    table.wandb td:nth-child(1) { padding: 0 10px; text-align: left ; width: auto;} td:nth-child(2) {text-align: left ; width: 100%}\n",
       "    .wandb-row { display: flex; flex-direction: row; flex-wrap: wrap; justify-content: flex-start; width: 100% }\n",
       "    .wandb-col { display: flex; flex-direction: column; flex-basis: 100%; flex: 1; padding: 10px; }\n",
       "    </style>\n",
       "<div class=\"wandb-row\"><div class=\"wandb-col\"><h3>Run history:</h3><br/><table class=\"wandb\"><tr><td>accuracy</td><td>▁▃▆▇█▇▇██▇▇▇▇▇██▇█▇▇▇▇▇▇▇██▇▇▇▇▇▇███▇███</td></tr><tr><td>f1_score</td><td>▂▁▄▆█▇███▇▆▇▇▇▇█▇█▇▇▇▇▇▇▇▇▇█▇▇▇▇▇███▇███</td></tr><tr><td>loss</td><td>█▃▂▁▁▁▁▁▁▁▁▁▁▁▁▁▁▁▁▁▁▁▁▁▁▁▁▁▁▁▁▁▁▁▁▁▁▁▁▁</td></tr><tr><td>roc-auc</td><td>▁▃▆▇█▇▇██▇▇▇▇▇██▇█▇▇▇▇▇▇▇██▇▇▇▇▇▇███▇███</td></tr></table><br/></div><div class=\"wandb-col\"><h3>Run summary:</h3><br/><table class=\"wandb\"><tr><td>accuracy</td><td>0.79318</td></tr><tr><td>f1_score</td><td>0.79493</td></tr><tr><td>loss</td><td>0.00014</td></tr><tr><td>roc-auc</td><td>0.79348</td></tr></table><br/></div></div>"
      ],
      "text/plain": [
       "<IPython.core.display.HTML object>"
      ]
     },
     "metadata": {},
     "output_type": "display_data"
    },
    {
     "data": {
      "text/html": [
       " View run <strong style=\"color:#cdcd00\">vibrant-dragon-123</strong> at: <a href='https://wandb.ai/elfat/SPDAvgPooling/runs/iz1fkgi2' target=\"_blank\">https://wandb.ai/elfat/SPDAvgPooling/runs/iz1fkgi2</a><br/>Synced 6 W&B file(s), 0 media file(s), 0 artifact file(s) and 0 other file(s)"
      ],
      "text/plain": [
       "<IPython.core.display.HTML object>"
      ]
     },
     "metadata": {},
     "output_type": "display_data"
    },
    {
     "data": {
      "text/html": [
       "Find logs at: <code>./wandb/run-20240531_131036-iz1fkgi2/logs</code>"
      ],
      "text/plain": [
       "<IPython.core.display.HTML object>"
      ]
     },
     "metadata": {},
     "output_type": "display_data"
    },
    {
     "data": {
      "text/html": [
       "Successfully finished last run (ID:iz1fkgi2). Initializing new run:<br/>"
      ],
      "text/plain": [
       "<IPython.core.display.HTML object>"
      ]
     },
     "metadata": {},
     "output_type": "display_data"
    },
    {
     "data": {
      "text/html": [
       "wandb version 0.17.0 is available!  To upgrade, please run:\n",
       " $ pip install wandb --upgrade"
      ],
      "text/plain": [
       "<IPython.core.display.HTML object>"
      ]
     },
     "metadata": {},
     "output_type": "display_data"
    },
    {
     "data": {
      "text/html": [
       "Tracking run with wandb version 0.15.8"
      ],
      "text/plain": [
       "<IPython.core.display.HTML object>"
      ]
     },
     "metadata": {},
     "output_type": "display_data"
    },
    {
     "data": {
      "text/html": [
       "Run data is saved locally in <code>/Users/marioauditore/Desktop/Geometric and Algebraic Methods/Geometric Deep Learning/Geomjax Project/experiments/wandb/run-20240531_145343-l4glq31t</code>"
      ],
      "text/plain": [
       "<IPython.core.display.HTML object>"
      ]
     },
     "metadata": {},
     "output_type": "display_data"
    },
    {
     "data": {
      "text/html": [
       "Syncing run <strong><a href='https://wandb.ai/elfat/SPDAvgPooling/runs/l4glq31t' target=\"_blank\">absurd-universe-125</a></strong> to <a href='https://wandb.ai/elfat/SPDAvgPooling' target=\"_blank\">Weights & Biases</a> (<a href='https://wandb.me/run' target=\"_blank\">docs</a>)<br/>"
      ],
      "text/plain": [
       "<IPython.core.display.HTML object>"
      ]
     },
     "metadata": {},
     "output_type": "display_data"
    },
    {
     "data": {
      "text/html": [
       " View project at <a href='https://wandb.ai/elfat/SPDAvgPooling' target=\"_blank\">https://wandb.ai/elfat/SPDAvgPooling</a>"
      ],
      "text/plain": [
       "<IPython.core.display.HTML object>"
      ]
     },
     "metadata": {},
     "output_type": "display_data"
    },
    {
     "data": {
      "text/html": [
       " View run at <a href='https://wandb.ai/elfat/SPDAvgPooling/runs/l4glq31t' target=\"_blank\">https://wandb.ai/elfat/SPDAvgPooling/runs/l4glq31t</a>"
      ],
      "text/plain": [
       "<IPython.core.display.HTML object>"
      ]
     },
     "metadata": {},
     "output_type": "display_data"
    },
    {
     "name": "stderr",
     "output_type": "stream",
     "text": [
      "100%|███████████████████████████████████████| 500/500 [1:40:22<00:00, 12.05s/it]\n"
     ]
    },
    {
     "data": {
      "image/png": "[encoded data removed]",
      "text/plain": [
       "<Figure size 640x480 with 1 Axes>"
      ]
     },
     "metadata": {},
     "output_type": "display_data"
    },
    {
     "data": {
      "image/png": "[encoded data removed]",
      "text/plain": [
       "<Figure size 640x480 with 1 Axes>"
      ]
     },
     "metadata": {},
     "output_type": "display_data"
    },
    {
     "data": {
      "text/html": [
       "Finishing last run (ID:l4glq31t) before initializing another..."
      ],
      "text/plain": [
       "<IPython.core.display.HTML object>"
      ]
     },
     "metadata": {},
     "output_type": "display_data"
    },
    {
     "data": {
      "text/html": [
       "Waiting for W&B process to finish... <strong style=\"color:green\">(success).</strong>"
      ],
      "text/plain": [
       "<IPython.core.display.HTML object>"
      ]
     },
     "metadata": {},
     "output_type": "display_data"
    },
    {
     "data": {
      "text/html": [
       "<style>\n",
       "    table.wandb td:nth-child(1) { padding: 0 10px; text-align: left ; width: auto;} td:nth-child(2) {text-align: left ; width: 100%}\n",
       "    .wandb-row { display: flex; flex-direction: row; flex-wrap: wrap; justify-content: flex-start; width: 100% }\n",
       "    .wandb-col { display: flex; flex-direction: column; flex-basis: 100%; flex: 1; padding: 10px; }\n",
       "    </style>\n",
       "<div class=\"wandb-row\"><div class=\"wandb-col\"><h3>Run history:</h3><br/><table class=\"wandb\"><tr><td>accuracy</td><td>▁▄▆▇█▆▇▇▇▇▇▇▇▇▇█▇▇▇▇█▇▇████████████▇▇███</td></tr><tr><td>f1_score</td><td>▁▁▅▆▇▅▆▄▆▆▇▆▆▅▆▇▆▆▆▆▇▆█▇▇███▇▇▇▇▆▇▇▇▇▇▇▇</td></tr><tr><td>loss</td><td>█▃▂▁▁▁▁▁▁▁▁▁▁▁▁▁▁▁▁▁▁▁▁▁▁▁▁▁▁▁▁▁▁▁▁▁▁▁▁▁</td></tr><tr><td>roc-auc</td><td>▁▄▆▇█▆▇▇▇▇▇▇▇▇▇█▇▇▇▇█▇▇████████████▇▇███</td></tr></table><br/></div><div class=\"wandb-col\"><h3>Run summary:</h3><br/><table class=\"wandb\"><tr><td>accuracy</td><td>0.76546</td></tr><tr><td>f1_score</td><td>0.76293</td></tr><tr><td>loss</td><td>0.00013</td></tr><tr><td>roc-auc</td><td>0.76547</td></tr></table><br/></div></div>"
      ],
      "text/plain": [
       "<IPython.core.display.HTML object>"
      ]
     },
     "metadata": {},
     "output_type": "display_data"
    },
    {
     "data": {
      "text/html": [
       " View run <strong style=\"color:#cdcd00\">absurd-universe-125</strong> at: <a href='https://wandb.ai/elfat/SPDAvgPooling/runs/l4glq31t' target=\"_blank\">https://wandb.ai/elfat/SPDAvgPooling/runs/l4glq31t</a><br/>Synced 6 W&B file(s), 0 media file(s), 0 artifact file(s) and 0 other file(s)"
      ],
      "text/plain": [
       "<IPython.core.display.HTML object>"
      ]
     },
     "metadata": {},
     "output_type": "display_data"
    },
    {
     "data": {
      "text/html": [
       "Find logs at: <code>./wandb/run-20240531_145343-l4glq31t/logs</code>"
      ],
      "text/plain": [
       "<IPython.core.display.HTML object>"
      ]
     },
     "metadata": {},
     "output_type": "display_data"
    },
    {
     "data": {
      "text/html": [
       "Successfully finished last run (ID:l4glq31t). Initializing new run:<br/>"
      ],
      "text/plain": [
       "<IPython.core.display.HTML object>"
      ]
     },
     "metadata": {},
     "output_type": "display_data"
    },
    {
     "data": {
      "text/html": [
       "wandb version 0.17.0 is available!  To upgrade, please run:\n",
       " $ pip install wandb --upgrade"
      ],
      "text/plain": [
       "<IPython.core.display.HTML object>"
      ]
     },
     "metadata": {},
     "output_type": "display_data"
    },
    {
     "data": {
      "text/html": [
       "Tracking run with wandb version 0.15.8"
      ],
      "text/plain": [
       "<IPython.core.display.HTML object>"
      ]
     },
     "metadata": {},
     "output_type": "display_data"
    },
    {
     "data": {
      "text/html": [
       "Run data is saved locally in <code>/Users/marioauditore/Desktop/Geometric and Algebraic Methods/Geometric Deep Learning/Geomjax Project/experiments/wandb/run-20240531_163415-7zmtlwdk</code>"
      ],
      "text/plain": [
       "<IPython.core.display.HTML object>"
      ]
     },
     "metadata": {},
     "output_type": "display_data"
    },
    {
     "data": {
      "text/html": [
       "Syncing run <strong><a href='https://wandb.ai/elfat/SPDAvgPooling/runs/7zmtlwdk' target=\"_blank\">elated-snow-127</a></strong> to <a href='https://wandb.ai/elfat/SPDAvgPooling' target=\"_blank\">Weights & Biases</a> (<a href='https://wandb.me/run' target=\"_blank\">docs</a>)<br/>"
      ],
      "text/plain": [
       "<IPython.core.display.HTML object>"
      ]
     },
     "metadata": {},
     "output_type": "display_data"
    },
    {
     "data": {
      "text/html": [
       " View project at <a href='https://wandb.ai/elfat/SPDAvgPooling' target=\"_blank\">https://wandb.ai/elfat/SPDAvgPooling</a>"
      ],
      "text/plain": [
       "<IPython.core.display.HTML object>"
      ]
     },
     "metadata": {},
     "output_type": "display_data"
    },
    {
     "data": {
      "text/html": [
       " View run at <a href='https://wandb.ai/elfat/SPDAvgPooling/runs/7zmtlwdk' target=\"_blank\">https://wandb.ai/elfat/SPDAvgPooling/runs/7zmtlwdk</a>"
      ],
      "text/plain": [
       "<IPython.core.display.HTML object>"
      ]
     },
     "metadata": {},
     "output_type": "display_data"
    },
    {
     "name": "stderr",
     "output_type": "stream",
     "text": [
      "100%|███████████████████████████████████████| 500/500 [1:41:28<00:00, 12.18s/it]\n"
     ]
    },
    {
     "data": {
      "image/png": "[encoded data removed]",
      "text/plain": [
       "<Figure size 640x480 with 1 Axes>"
      ]
     },
     "metadata": {},
     "output_type": "display_data"
    },
    {
     "data": {
      "image/png": "[encoded data removed]",
      "text/plain": [
       "<Figure size 640x480 with 1 Axes>"
      ]
     },
     "metadata": {},
     "output_type": "display_data"
    }
   ],
   "source": [
    "from datetime import datetime\n",
    "import wandb\n",
    "\n",
    "wandb.login()\n",
    "\n",
    "max_accuracy = []\n",
    "max_f1 = []\n",
    "max_roc_auc = []\n",
    "\n",
    "n_experiments = 3\n",
    "counter = 0\n",
    "\n",
    "for e in range(n_experiments):\n",
    "\n",
    "    # provide new split\n",
    "    X_train, X_test, y_train, y_test = prepare_data(X_full, y_full, random_state=e)\n",
    "\n",
    "    # fixing randomness\n",
    "    key = random.PRNGKey(e)\n",
    "    np.random.seed(e)\n",
    "    \n",
    "    # Logging\n",
    "    run = wandb.init(\n",
    "    # Set the project where this run will be logged\n",
    "    project=\"SPDAvgPooling\",\n",
    "    # Track hyperparameters and run metadata\n",
    "    config={\n",
    "        \"learning_rate\": stiefel_optim.lr,\n",
    "        \"epochs\": n_epochs,\n",
    "        \"architecture\": \"sphere base\",\n",
    "        \"batch_size\": batch_size\n",
    "    })\n",
    "\n",
    "    # Init model\n",
    "    model = SPDNet(spd_optim=spd_optim, n_labels=n_labels, train=True)\n",
    "    model_val = SPDNet(spd_optim=spd_optim, n_labels=n_labels, train=False)\n",
    "    params = model.init(key, X_train[:2])\n",
    "    \n",
    "    # Re-init optimizers\n",
    "    sphere_params, stiefel_params, euclidean_params = split_groups(params)\n",
    "    # euclid\n",
    "    euclidean_state = euclidean_optim.init(euclidean_params)\n",
    "    euclid_clipper_state = euclid_grad_clipper.init(euclidean_params)\n",
    "    # stiefel\n",
    "    stiefel_optim_state = stiefel_optim.init(stiefel_params)\n",
    "    stiefel_clipper_state = stiefel_grad_clipper.init(stiefel_params)\n",
    "    # sphere\n",
    "    sphere_optim_state = stiefel_optim.init(sphere_params)\n",
    "    sphere_clipper_state = sphere_grad_clipper.init(sphere_params)\n",
    "    \n",
    "    \n",
    "    train_loss = []\n",
    "    f1_val = []\n",
    "    roc_auc_val = []\n",
    "    accuracy_val = []\n",
    "    \n",
    "    # indicies_mixed = random.permutation(key, jnp.arange(0, X_train.shape[0]))\n",
    "    counter = 0\n",
    "    for i in tqdm(range(n_epochs)):\n",
    "        # Iterate over batches\n",
    "        loss_buf = []\n",
    "        \n",
    "        for X, y in batch_sampler(X_train, y_train, batch_size, shuffle=True):\n",
    "            \n",
    "            # Perform one gradient update.\n",
    "            sphere_params, stiefel_params, euclidean_params = split_groups(params)\n",
    "            # loss_val, grads = loss_grad_fn(params, X, y)\n",
    "            (loss_val, batch_stats), grads = loss_grad_fn(params, X, y)\n",
    "            loss_buf.append(loss_val)\n",
    "            \n",
    "            # Split gradients to euclidean and not\n",
    "            sphere_grads, stiefel_grads, euclidean_grads = split_groups(grads)\n",
    "            \n",
    "            # Clip gradients\n",
    "            euclidean_grads, euclid_clipper_state = euclid_grad_clipper.update(euclidean_grads, euclid_clipper_state, euclidean_params)\n",
    "            stiefel_grads, stiefel_clipper_state = stiefel_grad_clipper.update(stiefel_grads, stiefel_clipper_state, stiefel_params)\n",
    "            sphere_grads, sphere_clipper_state = sphere_grad_clipper.update(sphere_grads, sphere_clipper_state, sphere_params)\n",
    "    \n",
    "            # Optax for euclidean params\n",
    "            updates, euclidean_state = euclidean_optim.update(euclidean_grads, euclidean_state, params=euclidean_params)\n",
    "            euclidean_params = optax.apply_updates(euclidean_params, updates)\n",
    "    \n",
    "            # Non Euclidean params\n",
    "            stiefel_params, stiefel_optim_state = stiefel_optim.update(stiefel_params, stiefel_grads, stiefel_optim_state)\n",
    "            sphere_params, sphere_optim_state = sphere_optim.update(sphere_params, sphere_grads, sphere_optim_state)\n",
    "    \n",
    "            # Merge\n",
    "            params = unfreeze(params)\n",
    "            params = merge_groups(params, sphere_params, stiefel_params, euclidean_params)\n",
    "            params['batch_stats'] = batch_stats\n",
    "            params = freeze(params)\n",
    "\n",
    "            # Count iterations\n",
    "            counter += 1\n",
    "        \n",
    "        # Save loss\n",
    "        if np.isnan(np.mean(loss_buf)):\n",
    "            print(f\"Nan found\")\n",
    "            break\n",
    "        else:\n",
    "            train_loss.append(np.mean(loss_buf))\n",
    "            \n",
    "        \n",
    "        # Validation\n",
    "        pred_test = model_val.apply(params, X_test)\n",
    "        \n",
    "        roc_auc_score_val = roc_auc_score(y_test, jnp.argmax(pred_test, axis=1))\n",
    "        f1_score_val = f1_score(y_test, jnp.argmax(pred_test, axis=1))\n",
    "        accuracy = accuracy_score(y_test, jnp.argmax(pred_test, axis=1))\n",
    "        \n",
    "        f1_val.append(f1_score_val)\n",
    "        accuracy_val.append(accuracy)\n",
    "        roc_auc_val.append(roc_auc_score_val)\n",
    "\n",
    "        wandb.log({\"accuracy\": accuracy, \n",
    "                   \"f1_score\": f1_score_val,\n",
    "                   \"roc-auc\": roc_auc_score_val,\n",
    "                   \"loss\": np.mean(loss_buf)})\n",
    "        \n",
    "    \n",
    "    plt.plot(train_loss, label='Train')\n",
    "    plt.legend()\n",
    "    plt.show()\n",
    "    \n",
    "    plt.plot(f1_val, label='f1 score')\n",
    "    plt.plot(accuracy_val, label='accuracy')\n",
    "    plt.plot(roc_auc_val, label='roc-auc')\n",
    "    plt.legend()\n",
    "    plt.show()\n",
    "\n",
    "    \n",
    "    directory = \"./results\"\n",
    "    if not os.path.exists(directory):\n",
    "        os.makedirs(directory)\n",
    "    \n",
    "    date_time_format = \"%Y.%m.%d-%H:%M:%S\"\n",
    "    date_time_str = datetime.now().strftime(date_time_format)\n",
    "    prefix = directory + '/' + date_time_str + f\"-seed-{e}-\"\n",
    "\n",
    "    np.save(prefix + \"-loss\", train_loss)\n",
    "    np.save(prefix + \"-f1\", f1_val)\n",
    "    np.save(prefix + \"-roc-auc\", roc_auc_val)\n",
    "    np.save(prefix + \"-accuracy\", accuracy_val)\n",
    "\n",
    "    max_accuracy.append(jnp.max(jnp.array(accuracy_val)))\n",
    "    max_f1.append(jnp.max(jnp.array(f1_val)))\n",
    "    max_roc_auc.append(jnp.max(jnp.array(roc_auc_val)))\n",
    "\n",
    "\n",
    "max_accuracy = jnp.array(max_accuracy)\n",
    "max_f1 = jnp.array(max_f1)\n",
    "max_roc_auc = jnp.array(max_roc_auc)\n"
   ]
  },
  {
   "cell_type": "code",
   "execution_count": 20,
   "id": "4136b18f",
   "metadata": {
    "papermill": {
     "duration": 14.546514,
     "end_time": "2023-05-23T06:54:31.915238",
     "exception": false,
     "start_time": "2023-05-23T06:54:17.368724",
     "status": "completed"
    },
    "tags": []
   },
   "outputs": [
    {
     "name": "stdout",
     "output_type": "stream",
     "text": [
      "Accuracy: 0.8024165034294128 +- 0.007850294932723045\n",
      "F1 score: 0.8018757700920105 +- 0.012601098977029324\n",
      "ROC-AUC : 0.8025634288787842 +- 0.008198341354727745\n"
     ]
    }
   ],
   "source": [
    "# Final test\n",
    "print(f\"Accuracy: {jnp.mean(max_accuracy)} +- {jnp.std(max_accuracy)}\")\n",
    "print(f\"F1 score: {jnp.mean(max_f1)} +- {jnp.std(max_f1)}\")\n",
    "print(f\"ROC-AUC : {jnp.mean(max_roc_auc)} +- {jnp.std(max_roc_auc)}\")\n",
    "\n",
    "wandb.log({\n",
    "    \"Accuracy mean\": jnp.mean(max_accuracy),\n",
    "    \"Accuracy std\": jnp.std(max_accuracy),\n",
    "    \"F1 mean\": jnp.mean(max_f1),\n",
    "    \"F1 std\": jnp.std(max_f1),\n",
    "    \"ROC-AUC mean\": jnp.mean(max_roc_auc),\n",
    "    \"ROC-AUC std\": jnp.std(max_roc_auc)\n",
    "})"
   ]
  },
  {
   "cell_type": "code",
   "execution_count": 21,
   "id": "d7006c4e",
   "metadata": {
    "papermill": {
     "duration": 0.574631,
     "end_time": "2023-05-23T06:54:33.078824",
     "exception": false,
     "start_time": "2023-05-23T06:54:32.504193",
     "status": "completed"
    },
    "tags": []
   },
   "outputs": [],
   "source": [
    "import pickle\n",
    "\n",
    "with open(f'./results/SPDAvgPooling-accuracy-{jnp.mean(max_accuracy):.4f}-' + date_time_str + '.pkl', 'wb') as f:\n",
    "    pickle.dump(unfreeze(params), f)"
   ]
  },
  {
   "cell_type": "code",
   "execution_count": 22,
   "id": "ea871b1d-066e-4b12-b739-31788d60b32b",
   "metadata": {},
   "outputs": [
    {
     "data": {
      "text/plain": [
       "19710"
      ]
     },
     "execution_count": 22,
     "metadata": {},
     "output_type": "execute_result"
    }
   ],
   "source": [
    "total_size = 0\n",
    "\n",
    "for layer in params['params']:\n",
    "    for param in params['params'][layer]:\n",
    "        total_size += np.prod(params['params'][layer][param].shape)\n",
    "\n",
    "total_size"
   ]
  },
  {
   "cell_type": "code",
   "execution_count": null,
   "id": "4dcab875-16c2-46e8-817f-d94feb95b0a6",
   "metadata": {},
   "outputs": [],
   "source": []
  }
 ],
 "metadata": {
  "kernelspec": {
   "display_name": "geometric",
   "language": "python",
   "name": "geometric"
  },
  "language_info": {
   "codemirror_mode": {
    "name": "ipython",
    "version": 3
   },
   "file_extension": ".py",
   "mimetype": "text/x-python",
   "name": "python",
   "nbconvert_exporter": "python",
   "pygments_lexer": "ipython3",
   "version": "3.11.4"
  },
  "papermill": {
   "default_parameters": {},
   "duration": 33407.092901,
   "end_time": "2023-05-23T06:54:38.689780",
   "environment_variables": {},
   "exception": null,
   "input_path": "__notebook__.ipynb",
   "output_path": "__notebook__.ipynb",
   "parameters": {},
   "start_time": "2023-05-22T21:37:51.596879",
   "version": "2.4.0"
  }
 },
 "nbformat": 4,
 "nbformat_minor": 5
}
